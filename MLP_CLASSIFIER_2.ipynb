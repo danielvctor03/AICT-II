{
 "cells": [
  {
   "cell_type": "code",
   "execution_count": 56,
   "id": "bd9c11a8",
   "metadata": {},
   "outputs": [],
   "source": [
    "import matplotlib.pyplot as plt\n",
    "import numpy as np\n",
    "import pandas as pd\n",
    "from sklearn.model_selection import train_test_split\n",
    "from sklearn.preprocessing import StandardScaler\n",
    "from tensorflow.keras.optimizers import Adam, Adamax\n",
    "\n",
    "from sklearn.neural_network import MLPClassifier\n",
    "from sklearn.metrics import confusion_matrix\n",
    "from sklearn.metrics import accuracy_score\n",
    "from sklearn.metrics import ConfusionMatrixDisplay\n",
    "from sklearn.metrics import classification_report\n",
    "\n",
    "from sklearn.model_selection import GridSearchCV"
   ]
  },
  {
   "cell_type": "code",
   "execution_count": 57,
   "id": "987c0450",
   "metadata": {},
   "outputs": [],
   "source": [
    "carregando_clear = np.load('D:\\\\Dados capturados\\\\DATASETS\\\\CLEAR.npy', mmap_mode='r')\n",
    "dados_clear = carregando_clear[:700000]\n",
    "\n",
    "carregamento_lte1m = np.load('D:\\\\Dados capturados\\\\DATASETS\\\\LTE_1M.npy', mmap_mode='r')\n",
    "dados_lte1m = carregamento_lte1m[:700000]\n",
    "\n",
    "dados_wifi = np.load('D:\\\\Dados capturados\\\\DATASETS\\\\WIFI.npy', mmap_mode='r')\n",
    "dados_wifi = dados_wifi[:700000]"
   ]
  },
  {
   "cell_type": "code",
   "execution_count": 58,
   "id": "745a7e87",
   "metadata": {},
   "outputs": [],
   "source": [
    "def sep_col_comp(dados):\n",
    "    parte_real = dados.real\n",
    "    parte_imag = dados.imag\n",
    "    return parte_real , parte_imag\n",
    "\n",
    "def montagem_datasets(dados_1 , dados_2):\n",
    "    real1 , imag1 = sep_col_comp(dados_1)\n",
    "    real2 , imag2 = sep_col_comp(dados_2)\n",
    "    atrib1 = np.zeros(len(dados_1))\n",
    "    atrib2 = np.ones(len(dados_2))\n",
    "    dados1 = np.column_stack((real1,imag1,atrib1))\n",
    "    dados2 = np.column_stack((real2,imag2,atrib2))\n",
    "    conjunto = np.vstack([dados1 , dados2])\n",
    "    indices = np.random.permutation(len(conjunto))\n",
    "    dados = conjunto[indices]\n",
    "    return dados\n",
    "\n",
    "def remodel(dados , feature):\n",
    "    df = pd.DataFrame(dados , columns = ['real' , 'imag' , 'clfq'])\n",
    "    df_junt = df[['real' , 'imag']].to_numpy()\n",
    "    dados_dim = df_junt\n",
    "    dados_dim = dados_dim.astype(np.float32)\n",
    "    alvo = df['clfq'].values\n",
    "    alvo_dim = alvo\n",
    "    alvo_dim = alvo_dim.astype(np.float32)\n",
    "    \n",
    "    return dados_dim , alvo_dim\n",
    "\n",
    "def processos(dados_1 , dados_2 , feature):\n",
    "    dados = montagem_datasets(dados_1 , dados_2)\n",
    "    X , Y = remodel(dados , feature)\n",
    "    return X , Y"
   ]
  },
  {
   "cell_type": "markdown",
   "id": "6d796130",
   "metadata": {},
   "source": [
    "### CLEAR X LTE"
   ]
  },
  {
   "cell_type": "markdown",
   "id": "3edcc75f",
   "metadata": {},
   "source": [
    "#### CARREGAMENTO DOS DADOS:"
   ]
  },
  {
   "cell_type": "code",
   "execution_count": 59,
   "id": "45e371e3",
   "metadata": {},
   "outputs": [
    {
     "name": "stdout",
     "output_type": "stream",
     "text": [
      "[[-6.1037244e-05  6.1037244e-05]\n",
      " [-3.0518622e-05 -6.1037244e-05]\n",
      " [ 9.1555863e-05  1.8311173e-04]\n",
      " ...\n",
      " [ 1.8311173e-04 -6.1037244e-05]\n",
      " [-1.2207449e-04  9.1555863e-05]\n",
      " [ 6.1037244e-05 -9.1555863e-05]]\n",
      "[0. 0. 0. ... 1. 1. 1.]\n"
     ]
    }
   ],
   "source": [
    "X,Y = processos(dados_clear, dados_lte1m ,2)\n",
    "\n",
    "print(X)\n",
    "print(Y)"
   ]
  },
  {
   "cell_type": "markdown",
   "id": "6c090bcf",
   "metadata": {},
   "source": [
    "#### CONJUNTOS DE TREINAMENTO E TESTE:"
   ]
  },
  {
   "cell_type": "code",
   "execution_count": 67,
   "id": "177857c6",
   "metadata": {},
   "outputs": [],
   "source": [
    "X_train , X_test , Y_train , Y_test = train_test_split(X, Y, test_size=0.8)"
   ]
  },
  {
   "cell_type": "markdown",
   "id": "2f98beca",
   "metadata": {},
   "source": [
    "#### NORMALIZACAO DOS DADOS:"
   ]
  },
  {
   "cell_type": "code",
   "execution_count": 68,
   "id": "b2b819b1",
   "metadata": {},
   "outputs": [],
   "source": [
    "sc=StandardScaler()\n",
    "\n",
    "scaler = sc.fit(X_train)\n",
    "trainX_scaled = scaler.transform(X_train)\n",
    "testX_scaled = scaler.transform(X_test)"
   ]
  },
  {
   "cell_type": "markdown",
   "id": "d2c8aec5",
   "metadata": {},
   "source": [
    "#### TREINAMENTO DO MODELO:"
   ]
  },
  {
   "cell_type": "code",
   "execution_count": 69,
   "id": "4f93116c",
   "metadata": {},
   "outputs": [
    {
     "data": {
      "text/plain": [
       "MLPClassifier(hidden_layer_sizes=(300, 200, 30), max_iter=500)"
      ]
     },
     "execution_count": 69,
     "metadata": {},
     "output_type": "execute_result"
    }
   ],
   "source": [
    "mlp_clf = MLPClassifier(hidden_layer_sizes=(300,200,30),\n",
    "                        max_iter = 500,activation = 'relu',\n",
    "                        solver = 'adam')\n",
    "\n",
    "mlp_clf.fit(trainX_scaled, Y_train)"
   ]
  },
  {
   "cell_type": "markdown",
   "id": "4cf0ea74",
   "metadata": {},
   "source": [
    "#### ACURACIA:"
   ]
  },
  {
   "cell_type": "code",
   "execution_count": 70,
   "id": "76d041f9",
   "metadata": {},
   "outputs": [
    {
     "name": "stdout",
     "output_type": "stream",
     "text": [
      "Accuracy: 0.53\n"
     ]
    }
   ],
   "source": [
    "y_pred = mlp_clf.predict(testX_scaled)\n",
    "\n",
    "print('Accuracy: {:.2f}'.format(accuracy_score(Y_test, y_pred)))"
   ]
  },
  {
   "cell_type": "markdown",
   "id": "23ab62ec",
   "metadata": {},
   "source": [
    "#### MATRIZ DE CONFUSAO:"
   ]
  },
  {
   "cell_type": "code",
   "execution_count": 71,
   "id": "1c1cb1d7",
   "metadata": {},
   "outputs": [],
   "source": [
    "cm = confusion_matrix(Y_test, y_pred, labels=mlp_clf.classes_)"
   ]
  },
  {
   "cell_type": "code",
   "execution_count": 72,
   "id": "d330a226",
   "metadata": {},
   "outputs": [],
   "source": [
    "disp = ConfusionMatrixDisplay(confusion_matrix=cm, display_labels=mlp_clf.classes_)"
   ]
  },
  {
   "cell_type": "code",
   "execution_count": 73,
   "id": "b785604c",
   "metadata": {},
   "outputs": [
    {
     "data": {
      "text/plain": [
       "<sklearn.metrics._plot.confusion_matrix.ConfusionMatrixDisplay at 0x1710b89bfd0>"
      ]
     },
     "execution_count": 73,
     "metadata": {},
     "output_type": "execute_result"
    },
    {
     "data": {
      "image/png": "[encoded data removed]",
      "text/plain": [
       "<Figure size 640x480 with 2 Axes>"
      ]
     },
     "metadata": {},
     "output_type": "display_data"
    }
   ],
   "source": [
    "disp.plot()"
   ]
  },
  {
   "cell_type": "markdown",
   "id": "23506637",
   "metadata": {},
   "source": [
    "### CLEAR X WIFI"
   ]
  },
  {
   "cell_type": "markdown",
   "id": "d7c1f708",
   "metadata": {},
   "source": [
    "#### CARREGAMENTO DOS DADOS:"
   ]
  },
  {
   "cell_type": "code",
   "execution_count": 74,
   "id": "faf39d20",
   "metadata": {},
   "outputs": [
    {
     "name": "stdout",
     "output_type": "stream",
     "text": [
      "[[ 0.0000000e+00  6.1037244e-05]\n",
      " [ 3.0518622e-05 -1.2207449e-04]\n",
      " [-1.5259311e-04  2.1363035e-04]\n",
      " ...\n",
      " [-6.1037244e-05 -3.3570486e-04]\n",
      " [ 3.0518622e-05  3.6622345e-04]\n",
      " [-1.5259311e-04 -6.1037244e-05]]\n",
      "[0. 1. 0. ... 1. 1. 0.]\n"
     ]
    }
   ],
   "source": [
    "X_2,Y_2 = processos(dados_clear, dados_wifi ,2)\n",
    "\n",
    "print(X_2)\n",
    "print(Y_2)"
   ]
  },
  {
   "cell_type": "markdown",
   "id": "6a8e7e39",
   "metadata": {},
   "source": [
    "#### CONJUNTOS DE TREINAMENTO E TESTE:"
   ]
  },
  {
   "cell_type": "code",
   "execution_count": 75,
   "id": "a6150c5a",
   "metadata": {},
   "outputs": [],
   "source": [
    "X_2_train , X_2_test , Y_2_train , Y_2_test = train_test_split(X_2, Y_2, test_size=0.8)"
   ]
  },
  {
   "cell_type": "markdown",
   "id": "1776f790",
   "metadata": {},
   "source": [
    "#### NORMALIZACAO DOS DADOS:"
   ]
  },
  {
   "cell_type": "code",
   "execution_count": 77,
   "id": "59518657",
   "metadata": {},
   "outputs": [],
   "source": [
    "sc_2=StandardScaler()\n",
    "\n",
    "scaler_2 = sc_2.fit(X_2_train)\n",
    "trainX_2_scaled = scaler.transform(X_2_train)\n",
    "testX_2_scaled = scaler.transform(X_2_test)"
   ]
  },
  {
   "cell_type": "markdown",
   "id": "94998e05",
   "metadata": {},
   "source": [
    "#### TREINAMENTO DO MODELO:"
   ]
  },
  {
   "cell_type": "code",
   "execution_count": 78,
   "id": "79b9688e",
   "metadata": {},
   "outputs": [
    {
     "data": {
      "text/plain": [
       "MLPClassifier(hidden_layer_sizes=(300, 200, 30), max_iter=500)"
      ]
     },
     "execution_count": 78,
     "metadata": {},
     "output_type": "execute_result"
    }
   ],
   "source": [
    "mlp_clf_2 = MLPClassifier(hidden_layer_sizes=(300,200,30),\n",
    "                        max_iter = 500,activation = 'relu',\n",
    "                        solver = 'adam')\n",
    "\n",
    "mlp_clf_2.fit(trainX_2_scaled, Y_2_train)"
   ]
  },
  {
   "cell_type": "markdown",
   "id": "48ed786b",
   "metadata": {},
   "source": [
    "#### ACURACIA:"
   ]
  },
  {
   "cell_type": "code",
   "execution_count": 86,
   "id": "470f7966",
   "metadata": {},
   "outputs": [
    {
     "name": "stdout",
     "output_type": "stream",
     "text": [
      "Accuracy: 0.59\n"
     ]
    }
   ],
   "source": [
    "y_2_pred = mlp_clf_2.predict(testX_2_scaled)\n",
    "\n",
    "print('Accuracy: {:.2f}'.format(accuracy_score(Y_2_test, y_2_pred)))"
   ]
  },
  {
   "cell_type": "markdown",
   "id": "332459e2",
   "metadata": {},
   "source": [
    "#### MATRIZ DE CONFUSAO:"
   ]
  },
  {
   "cell_type": "code",
   "execution_count": 96,
   "id": "651144e4",
   "metadata": {},
   "outputs": [],
   "source": [
    "cm_2 = confusion_matrix(Y_2_test, y_2_pred, labels=mlp_clf_2.classes_)"
   ]
  },
  {
   "cell_type": "code",
   "execution_count": 104,
   "id": "d808dd55",
   "metadata": {},
   "outputs": [],
   "source": [
    "disp_2 = ConfusionMatrixDisplay(confusion_matrix=cm_2, display_labels=mlp_clf_2.classes_)"
   ]
  },
  {
   "cell_type": "code",
   "execution_count": 105,
   "id": "c1cd5197",
   "metadata": {},
   "outputs": [
    {
     "data": {
      "text/plain": [
       "<sklearn.metrics._plot.confusion_matrix.ConfusionMatrixDisplay at 0x1710c0b0190>"
      ]
     },
     "execution_count": 105,
     "metadata": {},
     "output_type": "execute_result"
    },
    {
     "data": {
      "image/png": "[encoded data removed]",
      "text/plain": [
       "<Figure size 640x480 with 2 Axes>"
      ]
     },
     "metadata": {},
     "output_type": "display_data"
    }
   ],
   "source": [
    "disp_2.plot()"
   ]
  },
  {
   "cell_type": "markdown",
   "id": "af5dfa66",
   "metadata": {},
   "source": [
    "### LTE X WIFI"
   ]
  },
  {
   "cell_type": "markdown",
   "id": "160fd47d",
   "metadata": {},
   "source": [
    "#### CARREGAMENTO DOS DADOS:"
   ]
  },
  {
   "cell_type": "code",
   "execution_count": 90,
   "id": "98a2993c",
   "metadata": {},
   "outputs": [
    {
     "name": "stdout",
     "output_type": "stream",
     "text": [
      "[[ 2.1363035e-04  0.0000000e+00]\n",
      " [-3.0518623e-04  9.1555863e-05]\n",
      " [ 1.2207449e-04 -6.1037244e-05]\n",
      " ...\n",
      " [ 6.1037244e-05 -3.0518622e-05]\n",
      " [-2.7466760e-04  3.3570486e-04]\n",
      " [ 0.0000000e+00  2.7466760e-04]]\n",
      "[0. 0. 0. ... 0. 1. 1.]\n"
     ]
    }
   ],
   "source": [
    "X_3,Y_3 = processos(dados_lte1m, dados_wifi ,2)\n",
    "\n",
    "print(X_3)\n",
    "print(Y_3)"
   ]
  },
  {
   "cell_type": "markdown",
   "id": "824456c9",
   "metadata": {},
   "source": [
    "#### CONJUNTOS DE TREINAMENTO E TESTE:"
   ]
  },
  {
   "cell_type": "code",
   "execution_count": 91,
   "id": "63d7dfc5",
   "metadata": {},
   "outputs": [],
   "source": [
    "X_3_train , X_3_test , Y_3_train , Y_3_test = train_test_split(X_3, Y_3, test_size=0.8)"
   ]
  },
  {
   "cell_type": "markdown",
   "id": "92a19bfe",
   "metadata": {},
   "source": [
    "#### NORMALIZACAO DOS DADOS:"
   ]
  },
  {
   "cell_type": "code",
   "execution_count": 92,
   "id": "029424ca",
   "metadata": {},
   "outputs": [],
   "source": [
    "sc_3=StandardScaler()\n",
    "\n",
    "scaler_3= sc_2.fit(X_3_train)\n",
    "trainX_3_scaled = scaler.transform(X_3_train)\n",
    "testX_3_scaled = scaler.transform(X_3_test)"
   ]
  },
  {
   "cell_type": "markdown",
   "id": "9f2ec265",
   "metadata": {},
   "source": [
    "#### TREINAMENTO DO MODELO:"
   ]
  },
  {
   "cell_type": "code",
   "execution_count": 94,
   "id": "18c70105",
   "metadata": {},
   "outputs": [
    {
     "data": {
      "text/plain": [
       "MLPClassifier(hidden_layer_sizes=(300, 200, 30), max_iter=500)"
      ]
     },
     "execution_count": 94,
     "metadata": {},
     "output_type": "execute_result"
    }
   ],
   "source": [
    "mlp_clf_3 = MLPClassifier(hidden_layer_sizes=(300,200,30),\n",
    "                        max_iter = 500,activation = 'relu',\n",
    "                        solver = 'adam')\n",
    "\n",
    "mlp_clf_3.fit(trainX_3_scaled, Y_3_train)"
   ]
  },
  {
   "cell_type": "markdown",
   "id": "2e4ce0a8",
   "metadata": {},
   "source": [
    "#### ACURACIA:"
   ]
  },
  {
   "cell_type": "code",
   "execution_count": 95,
   "id": "fdfc34cf",
   "metadata": {},
   "outputs": [
    {
     "name": "stdout",
     "output_type": "stream",
     "text": [
      "Accuracy: 0.56\n"
     ]
    }
   ],
   "source": [
    "y_3_pred = mlp_clf_3.predict(testX_3_scaled)\n",
    "\n",
    "print('Accuracy: {:.2f}'.format(accuracy_score(Y_3_test, y_3_pred)))"
   ]
  },
  {
   "cell_type": "markdown",
   "id": "c71a50bd",
   "metadata": {},
   "source": [
    "#### MATRIZ DE CONFUSAO:"
   ]
  },
  {
   "cell_type": "code",
   "execution_count": 99,
   "id": "8a662cf3",
   "metadata": {},
   "outputs": [],
   "source": [
    "cm_3 = confusion_matrix(Y_3_test, y_3_pred, labels=mlp_clf_3.classes_)"
   ]
  },
  {
   "cell_type": "code",
   "execution_count": 102,
   "id": "fb1fcc54",
   "metadata": {},
   "outputs": [],
   "source": [
    "disp_3 = ConfusionMatrixDisplay(confusion_matrix=cm_3, display_labels=mlp_clf_3.classes_)"
   ]
  },
  {
   "cell_type": "code",
   "execution_count": 103,
   "id": "12b2d6bb",
   "metadata": {},
   "outputs": [
    {
     "data": {
      "text/plain": [
       "<sklearn.metrics._plot.confusion_matrix.ConfusionMatrixDisplay at 0x1710d099b20>"
      ]
     },
     "execution_count": 103,
     "metadata": {},
     "output_type": "execute_result"
    },
    {
     "data": {
      "image/png": "[encoded data removed]",
      "text/plain": [
       "<Figure size 640x480 with 2 Axes>"
      ]
     },
     "metadata": {},
     "output_type": "display_data"
    }
   ],
   "source": [
    "disp_3.plot()"
   ]
  },
  {
   "cell_type": "code",
   "execution_count": null,
   "id": "5b5fd3d1",
   "metadata": {},
   "outputs": [],
   "source": []
  }
 ],
 "metadata": {
  "kernelspec": {
   "display_name": "Python 3 (ipykernel)",
   "language": "python",
   "name": "python3"
  },
  "language_info": {
   "codemirror_mode": {
    "name": "ipython",
    "version": 3
   },
   "file_extension": ".py",
   "mimetype": "text/x-python",
   "name": "python",
   "nbconvert_exporter": "python",
   "pygments_lexer": "ipython3",
   "version": "3.8.0"
  }
 },
 "nbformat": 4,
 "nbformat_minor": 5
}
