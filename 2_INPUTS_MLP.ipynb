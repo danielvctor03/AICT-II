{
 "cells": [
  {
   "cell_type": "markdown",
   "id": "59e7d4a4",
   "metadata": {},
   "source": [
    "## PERCEPTRON DE MÚLTIPLAS CAMADAS"
   ]
  },
  {
   "cell_type": "markdown",
   "id": "0fbd451f",
   "metadata": {},
   "source": [
    "### BIBILIOTECAS BÁSICAS:"
   ]
  },
  {
   "cell_type": "code",
   "execution_count": 1,
   "id": "fe52b7bf",
   "metadata": {},
   "outputs": [],
   "source": [
    "import matplotlib.pyplot as plt\n",
    "import numpy as np\n",
    "import pandas as pd\n",
    "from sklearn.model_selection import train_test_split\n",
    "from sklearn.preprocessing import StandardScaler\n",
    "from tensorflow.keras.optimizers import Adam, Adamax\n",
    "\n",
    "from sklearn.neural_network import MLPClassifier\n",
    "from sklearn.metrics import confusion_matrix\n",
    "from sklearn.metrics import accuracy_score\n",
    "from sklearn.metrics import ConfusionMatrixDisplay\n",
    "from sklearn.metrics import classification_report\n",
    "from sklearn.preprocessing import MinMaxScaler\n",
    "\n",
    "from sklearn.model_selection import GridSearchCV"
   ]
  },
  {
   "cell_type": "markdown",
   "id": "a5b19b16",
   "metadata": {},
   "source": [
    "### CARREGAMENTO DOS DATASETS:"
   ]
  },
  {
   "cell_type": "code",
   "execution_count": 38,
   "id": "4d43cfc0",
   "metadata": {},
   "outputs": [],
   "source": [
    "carregando_clear = np.load('D:\\\\Dados capturados\\\\DATASETS\\\\CLEAR.npy', mmap_mode='r')\n",
    "dados_clear = carregando_clear[:1000000]\n",
    "\n",
    "carregamento_lte1m = np.load('D:\\\\Dados capturados\\\\DATASETS\\\\LTE_1M.npy', mmap_mode='r')\n",
    "dados_lte1m = carregamento_lte1m[:1000000]\n",
    "\n",
    "dados_wifi = np.load('D:\\\\Dados capturados\\\\DATASETS\\\\WIFI.npy', mmap_mode='r')\n",
    "dados_wifi = dados_wifi[:1000000]"
   ]
  },
  {
   "cell_type": "markdown",
   "id": "cfc8f0a9",
   "metadata": {},
   "source": [
    "### SEPARAÇÃO DAS PARTES REAL E IMAGINÁRIA:"
   ]
  },
  {
   "cell_type": "code",
   "execution_count": 39,
   "id": "f225d105",
   "metadata": {},
   "outputs": [],
   "source": [
    "def sep_col_comp(dados):\n",
    "    parte_real = dados.real\n",
    "    parte_imag = dados.imag\n",
    "    return parte_real , parte_imag\n",
    "\n",
    "def montagem_datasets(dados_1 , dados_2):\n",
    "    real1 , imag1 = sep_col_comp(dados_1)\n",
    "    real2 , imag2 = sep_col_comp(dados_2)\n",
    "    atrib1 = np.zeros(len(dados_1))\n",
    "    atrib2 = np.ones(len(dados_2))\n",
    "    dados1 = np.column_stack((real1,imag1,atrib1))\n",
    "    dados2 = np.column_stack((real2,imag2,atrib2))\n",
    "    conjunto = np.vstack([dados1 , dados2])\n",
    "    indices = np.random.permutation(len(conjunto))\n",
    "    dados = conjunto[indices]\n",
    "    return dados\n",
    "\n",
    "def remodel(dados , feature):\n",
    "    df = pd.DataFrame(dados , columns = ['real' , 'imag' , 'clfq'])\n",
    "    df_junt = df[['real' , 'imag']].to_numpy()\n",
    "    dados_dim = df_junt\n",
    "    dados_dim = dados_dim.astype(np.float32)\n",
    "    alvo = df['clfq'].values\n",
    "    alvo_dim = alvo\n",
    "    alvo_dim = alvo_dim.astype(np.float32)\n",
    "    \n",
    "    return dados_dim , alvo_dim\n",
    "\n",
    "def processos(dados_1 , dados_2 , feature):\n",
    "    dados = montagem_datasets(dados_1 , dados_2)\n",
    "    X , Y = remodel(dados , feature)\n",
    "    return X , Y"
   ]
  },
  {
   "cell_type": "markdown",
   "id": "15ac9555",
   "metadata": {},
   "source": [
    "### CLEAR X LTE"
   ]
  },
  {
   "cell_type": "markdown",
   "id": "206cf17e",
   "metadata": {},
   "source": [
    "#### CARREGAMENTO DOS DADOS:"
   ]
  },
  {
   "cell_type": "code",
   "execution_count": 40,
   "id": "7b464423",
   "metadata": {},
   "outputs": [
    {
     "name": "stdout",
     "output_type": "stream",
     "text": [
      "[[ 0.0000000e+00  1.2207449e-04]\n",
      " [ 9.1555863e-05  3.0518622e-05]\n",
      " [ 1.2207449e-04  4.5777933e-04]\n",
      " ...\n",
      " [-3.0518622e-05  2.1363035e-04]\n",
      " [ 6.1037244e-05  0.0000000e+00]\n",
      " [-2.1363035e-04  3.0518622e-05]]\n",
      "[1. 0. 0. ... 1. 0. 0.]\n"
     ]
    }
   ],
   "source": [
    "X,Y = processos(dados_clear, dados_lte1m ,2)\n",
    "\n",
    "print(X)\n",
    "print(Y)"
   ]
  },
  {
   "cell_type": "markdown",
   "id": "a3724633",
   "metadata": {},
   "source": [
    "#### CONJUNTOS DE TREINAMENTO E TESTE:"
   ]
  },
  {
   "cell_type": "code",
   "execution_count": 41,
   "id": "7fbc672d",
   "metadata": {},
   "outputs": [],
   "source": [
    "X_train , X_test , Y_train , Y_test = train_test_split(X, Y, test_size=0.8)"
   ]
  },
  {
   "cell_type": "markdown",
   "id": "466e62c6",
   "metadata": {},
   "source": [
    "#### NORMALIZAÇÃO DOS DADOS:"
   ]
  },
  {
   "cell_type": "code",
   "execution_count": 42,
   "id": "251514e1",
   "metadata": {},
   "outputs": [
    {
     "name": "stdout",
     "output_type": "stream",
     "text": [
      "[[ 2.0902507  -0.8174813 ]\n",
      " [-1.2643291   1.6269159 ]\n",
      " [-0.42568412  1.4232162 ]\n",
      " ...\n",
      " [ 0.6226221   0.40471733]\n",
      " [-1.8933129  -0.00268222]\n",
      " [-1.2643291  -0.00268222]]\n",
      "[[ 0.6226221  -0.41008174]\n",
      " [-1.6836517  -0.6137815 ]\n",
      " [-0.2160229  -1.0211811 ]\n",
      " ...\n",
      " [ 0.8322833   0.81211686]\n",
      " [ 0.41296086 -0.41008174]\n",
      " [-0.00636165 -1.6322805 ]]\n"
     ]
    }
   ],
   "source": [
    "sc=StandardScaler()\n",
    "\n",
    "scaler = sc.fit(X_train)\n",
    "trainX_scaled = scaler.transform(X_train)\n",
    "testX_scaled = scaler.transform(X_test)\n",
    "\n",
    "print(trainX_scaled)\n",
    "print(testX_scaled)\n"
   ]
  },
  {
   "cell_type": "markdown",
   "id": "abee0573",
   "metadata": {},
   "source": [
    "#### TREINAMENTO DO MODELO:"
   ]
  },
  {
   "cell_type": "code",
   "execution_count": 43,
   "id": "cba8850b",
   "metadata": {},
   "outputs": [
    {
     "name": "stdout",
     "output_type": "stream",
     "text": [
      "Iteration 1, loss = 0.69107644\n",
      "Validation score: 0.529600\n",
      "Iteration 2, loss = 0.68976744\n",
      "Validation score: 0.531175\n",
      "Iteration 3, loss = 0.68961817\n",
      "Validation score: 0.531125\n",
      "Iteration 4, loss = 0.68956770\n",
      "Validation score: 0.530825\n",
      "Iteration 5, loss = 0.68952535\n",
      "Validation score: 0.530875\n",
      "Iteration 6, loss = 0.68949006\n",
      "Validation score: 0.531425\n",
      "Iteration 7, loss = 0.68946894\n",
      "Validation score: 0.530800\n",
      "Iteration 8, loss = 0.68945362\n",
      "Validation score: 0.530675\n",
      "Iteration 9, loss = 0.68942966\n",
      "Validation score: 0.531750\n",
      "Iteration 10, loss = 0.68943241\n",
      "Validation score: 0.530550\n",
      "Iteration 11, loss = 0.68940979\n",
      "Validation score: 0.531200\n",
      "Iteration 12, loss = 0.68940593\n",
      "Validation score: 0.530400\n",
      "Iteration 13, loss = 0.68940966\n",
      "Validation score: 0.531050\n",
      "Iteration 14, loss = 0.68940018\n",
      "Validation score: 0.530900\n",
      "Iteration 15, loss = 0.68939144\n",
      "Validation score: 0.529750\n",
      "Validation score did not improve more than tol=0.000001 for 5 consecutive epochs. Setting learning rate to 0.000200\n",
      "Iteration 16, loss = 0.68934816\n",
      "Validation score: 0.530825\n",
      "Iteration 17, loss = 0.68933714\n",
      "Validation score: 0.529925\n",
      "Iteration 18, loss = 0.68933991\n",
      "Validation score: 0.531900\n",
      "Iteration 19, loss = 0.68934213\n",
      "Validation score: 0.531600\n",
      "Iteration 20, loss = 0.68933829\n",
      "Validation score: 0.531600\n",
      "Iteration 21, loss = 0.68933582\n",
      "Validation score: 0.531100\n",
      "Iteration 22, loss = 0.68933921\n",
      "Validation score: 0.530825\n",
      "Iteration 23, loss = 0.68933886\n",
      "Validation score: 0.531750\n",
      "Iteration 24, loss = 0.68933793\n",
      "Validation score: 0.531600\n",
      "Validation score did not improve more than tol=0.000001 for 5 consecutive epochs. Setting learning rate to 0.000040\n",
      "Iteration 25, loss = 0.68932851\n",
      "Validation score: 0.531925\n",
      "Iteration 26, loss = 0.68932523\n",
      "Validation score: 0.531775\n",
      "Iteration 27, loss = 0.68932612\n",
      "Validation score: 0.531050\n",
      "Iteration 28, loss = 0.68932551\n",
      "Validation score: 0.531050\n",
      "Iteration 29, loss = 0.68932527\n",
      "Validation score: 0.531050\n",
      "Iteration 30, loss = 0.68932492\n",
      "Validation score: 0.530975\n",
      "Iteration 31, loss = 0.68932472\n",
      "Validation score: 0.531050\n",
      "Validation score did not improve more than tol=0.000001 for 5 consecutive epochs. Setting learning rate to 0.000008\n",
      "Iteration 32, loss = 0.68932219\n",
      "Validation score: 0.531050\n",
      "Iteration 33, loss = 0.68932209\n",
      "Validation score: 0.531050\n",
      "Iteration 34, loss = 0.68932211\n",
      "Validation score: 0.531050\n",
      "Iteration 35, loss = 0.68932209\n",
      "Validation score: 0.531050\n",
      "Iteration 36, loss = 0.68932200\n",
      "Validation score: 0.531050\n",
      "Iteration 37, loss = 0.68932202\n",
      "Validation score: 0.531050\n",
      "Validation score did not improve more than tol=0.000001 for 5 consecutive epochs. Setting learning rate to 0.000002\n",
      "Iteration 38, loss = 0.68932144\n",
      "Validation score: 0.531050\n",
      "Iteration 39, loss = 0.68932143\n",
      "Validation score: 0.531050\n",
      "Iteration 40, loss = 0.68932143\n",
      "Validation score: 0.531050\n",
      "Iteration 41, loss = 0.68932142\n",
      "Validation score: 0.531050\n",
      "Iteration 42, loss = 0.68932141\n",
      "Validation score: 0.531050\n",
      "Iteration 43, loss = 0.68932141\n",
      "Validation score: 0.531050\n",
      "Validation score did not improve more than tol=0.000001 for 5 consecutive epochs. Setting learning rate to 0.000000\n",
      "Iteration 44, loss = 0.68932129\n",
      "Validation score: 0.531050\n",
      "Iteration 45, loss = 0.68932128\n",
      "Validation score: 0.531050\n",
      "Iteration 46, loss = 0.68932128\n",
      "Validation score: 0.531050\n",
      "Iteration 47, loss = 0.68932128\n",
      "Validation score: 0.531050\n",
      "Iteration 48, loss = 0.68932128\n",
      "Validation score: 0.531050\n",
      "Iteration 49, loss = 0.68932128\n",
      "Validation score: 0.531050\n",
      "Validation score did not improve more than tol=0.000001 for 5 consecutive epochs. Learning rate too small. Stopping.\n"
     ]
    },
    {
     "data": {
      "text/plain": [
       "MLPClassifier(early_stopping=True, hidden_layer_sizes=(400, 200, 100, 20),\n",
       "              learning_rate='adaptive', max_iter=100, n_iter_no_change=5,\n",
       "              solver='sgd', tol=1e-06, verbose=True)"
      ]
     },
     "execution_count": 43,
     "metadata": {},
     "output_type": "execute_result"
    }
   ],
   "source": [
    "mlp_clf = MLPClassifier(hidden_layer_sizes=(400,200,100,20), verbose= True , tol=0.000001,\n",
    "                        max_iter = 100, activation = 'relu', shuffle=True, n_iter_no_change = 5,\n",
    "                        solver = 'sgd', early_stopping=True, learning_rate= 'adaptive' \n",
    "                        )\n",
    "\n",
    "mlp_clf.fit(trainX_scaled, Y_train)"
   ]
  },
  {
   "cell_type": "markdown",
   "id": "b8e8328c",
   "metadata": {},
   "source": [
    "#### ACURÁCIA:"
   ]
  },
  {
   "cell_type": "code",
   "execution_count": 44,
   "id": "6300d145",
   "metadata": {},
   "outputs": [
    {
     "name": "stdout",
     "output_type": "stream",
     "text": [
      "Accuracy: 0.53\n"
     ]
    }
   ],
   "source": [
    "y_pred = mlp_clf.predict(testX_scaled)\n",
    "\n",
    "print('Accuracy: {:.2f}'.format(accuracy_score(Y_test, y_pred)))"
   ]
  },
  {
   "cell_type": "markdown",
   "id": "4610808d",
   "metadata": {},
   "source": [
    "#### MATRIZ DE CONFUSÃO:"
   ]
  },
  {
   "cell_type": "code",
   "execution_count": 45,
   "id": "0ca34987",
   "metadata": {},
   "outputs": [],
   "source": [
    "cm = confusion_matrix(Y_test, y_pred, labels=mlp_clf.classes_)"
   ]
  },
  {
   "cell_type": "code",
   "execution_count": 46,
   "id": "f2fd8402",
   "metadata": {},
   "outputs": [],
   "source": [
    "disp = ConfusionMatrixDisplay(confusion_matrix=cm, display_labels=mlp_clf.classes_)"
   ]
  },
  {
   "cell_type": "code",
   "execution_count": 47,
   "id": "79250a00",
   "metadata": {},
   "outputs": [
    {
     "data": {
      "text/plain": [
       "<sklearn.metrics._plot.confusion_matrix.ConfusionMatrixDisplay at 0x18480cc97c0>"
      ]
     },
     "execution_count": 47,
     "metadata": {},
     "output_type": "execute_result"
    },
    {
     "data": {
      "image/png": "[encoded data removed]",
      "text/plain": [
       "<Figure size 640x480 with 2 Axes>"
      ]
     },
     "metadata": {},
     "output_type": "display_data"
    }
   ],
   "source": [
    "disp.plot()"
   ]
  },
  {
   "cell_type": "code",
   "execution_count": 60,
   "id": "73e94735",
   "metadata": {},
   "outputs": [
    {
     "name": "stdout",
     "output_type": "stream",
     "text": [
      "              precision    recall  f1-score   support\n",
      "\n",
      "         0.0       0.52      0.68      0.59    800013\n",
      "         1.0       0.54      0.38      0.45    799987\n",
      "\n",
      "    accuracy                           0.53   1600000\n",
      "   macro avg       0.53      0.53      0.52   1600000\n",
      "weighted avg       0.53      0.53      0.52   1600000\n",
      "\n"
     ]
    },
    {
     "data": {
      "image/png": "[encoded data removed]",
      "text/plain": [
       "<Figure size 640x480 with 1 Axes>"
      ]
     },
     "metadata": {},
     "output_type": "display_data"
    }
   ],
   "source": [
    "print(classification_report(Y_test, y_pred))\n",
    "\n",
    "plt.plot(mlp_clf.loss_curve_ , label = 'Treinamento' , color = 'b')\n",
    "plt.plot(mlp_clf.validation_scores_ , label = 'Validação' , color = 'g')\n",
    "plt.title(\"Loss Curve\", fontsize=14)\n",
    "plt.xlabel('Iterations')\n",
    "plt.ylabel('Cost')\n",
    "plt.legend(loc='best')\n",
    "plt.show()"
   ]
  },
  {
   "cell_type": "code",
   "execution_count": null,
   "id": "4d17159e",
   "metadata": {},
   "outputs": [],
   "source": []
  },
  {
   "cell_type": "markdown",
   "id": "d43aa204",
   "metadata": {},
   "source": [
    "### CLEAR X WIFI"
   ]
  },
  {
   "cell_type": "markdown",
   "id": "4efd7b88",
   "metadata": {},
   "source": [
    "#### CARREGAMENTO DOS DADOS:"
   ]
  },
  {
   "cell_type": "code",
   "execution_count": 49,
   "id": "d5e59ba4",
   "metadata": {},
   "outputs": [
    {
     "name": "stdout",
     "output_type": "stream",
     "text": [
      "[[ 6.1037244e-05 -9.1555863e-05]\n",
      " [-9.1555863e-05 -1.5259311e-04]\n",
      " [ 1.5259311e-04 -2.7466760e-04]\n",
      " ...\n",
      " [-3.3570486e-04  9.1555863e-05]\n",
      " [ 1.2207449e-04 -3.0518622e-05]\n",
      " [ 0.0000000e+00  0.0000000e+00]]\n",
      "[0. 0. 1. ... 1. 0. 1.]\n"
     ]
    }
   ],
   "source": [
    "X_2,Y_2 = processos(dados_clear, dados_wifi ,2)\n",
    "\n",
    "print(X_2)\n",
    "print(Y_2)"
   ]
  },
  {
   "cell_type": "markdown",
   "id": "fb9e815e",
   "metadata": {},
   "source": [
    "#### CONJUNTOS DE TREINAMENTO E TESTE:"
   ]
  },
  {
   "cell_type": "code",
   "execution_count": 50,
   "id": "085ad6fa",
   "metadata": {},
   "outputs": [],
   "source": [
    "X_2_train , X_2_test , Y_2_train , Y_2_test = train_test_split(X_2, Y_2, test_size=0.8)"
   ]
  },
  {
   "cell_type": "markdown",
   "id": "3a2f2542",
   "metadata": {},
   "source": [
    "#### NORMALIZAÇÃO DOS DADOS:"
   ]
  },
  {
   "cell_type": "code",
   "execution_count": 51,
   "id": "d71955c8",
   "metadata": {},
   "outputs": [],
   "source": [
    "sc_2=StandardScaler()\n",
    "\n",
    "scaler_2 = sc_2.fit(X_2_train)\n",
    "trainX_2_scaled = scaler.transform(X_2_train)\n",
    "testX_2_scaled = scaler.transform(X_2_test)"
   ]
  },
  {
   "cell_type": "markdown",
   "id": "bfdaa343",
   "metadata": {},
   "source": [
    "#### TREINAMENTO DO MODELO:"
   ]
  },
  {
   "cell_type": "code",
   "execution_count": 52,
   "id": "19ca25e1",
   "metadata": {},
   "outputs": [
    {
     "name": "stdout",
     "output_type": "stream",
     "text": [
      "Iteration 1, loss = 0.67819495\n",
      "Validation score: 0.582225\n",
      "Iteration 2, loss = 0.66545707\n",
      "Validation score: 0.583375\n",
      "Iteration 3, loss = 0.66434838\n",
      "Validation score: 0.582900\n",
      "Iteration 4, loss = 0.66392387\n",
      "Validation score: 0.585300\n",
      "Iteration 5, loss = 0.66373837\n",
      "Validation score: 0.585850\n",
      "Iteration 6, loss = 0.66359727\n",
      "Validation score: 0.584900\n",
      "Iteration 7, loss = 0.66350156\n",
      "Validation score: 0.584850\n",
      "Iteration 8, loss = 0.66344538\n",
      "Validation score: 0.583575\n",
      "Iteration 9, loss = 0.66338666\n",
      "Validation score: 0.584475\n",
      "Iteration 10, loss = 0.66332504\n",
      "Validation score: 0.585800\n",
      "Iteration 11, loss = 0.66330803\n",
      "Validation score: 0.584300\n",
      "Validation score did not improve more than tol=0.000001 for 5 consecutive epochs. Setting learning rate to 0.000200\n",
      "Iteration 12, loss = 0.66322109\n",
      "Validation score: 0.584625\n",
      "Iteration 13, loss = 0.66320929\n",
      "Validation score: 0.584625\n",
      "Iteration 14, loss = 0.66320884\n",
      "Validation score: 0.584575\n",
      "Iteration 15, loss = 0.66320587\n",
      "Validation score: 0.584450\n",
      "Iteration 16, loss = 0.66320239\n",
      "Validation score: 0.584125\n",
      "Iteration 17, loss = 0.66319408\n",
      "Validation score: 0.584475\n",
      "Validation score did not improve more than tol=0.000001 for 5 consecutive epochs. Setting learning rate to 0.000040\n",
      "Iteration 18, loss = 0.66317841\n",
      "Validation score: 0.584200\n",
      "Iteration 19, loss = 0.66317480\n",
      "Validation score: 0.584200\n",
      "Iteration 20, loss = 0.66317348\n",
      "Validation score: 0.584200\n",
      "Iteration 21, loss = 0.66317235\n",
      "Validation score: 0.584175\n",
      "Iteration 22, loss = 0.66317200\n",
      "Validation score: 0.584200\n",
      "Iteration 23, loss = 0.66317091\n",
      "Validation score: 0.584175\n",
      "Validation score did not improve more than tol=0.000001 for 5 consecutive epochs. Setting learning rate to 0.000008\n",
      "Iteration 24, loss = 0.66316634\n",
      "Validation score: 0.584175\n",
      "Iteration 25, loss = 0.66316593\n",
      "Validation score: 0.584175\n",
      "Iteration 26, loss = 0.66316563\n",
      "Validation score: 0.584175\n",
      "Iteration 27, loss = 0.66316562\n",
      "Validation score: 0.584175\n",
      "Iteration 28, loss = 0.66316542\n",
      "Validation score: 0.584175\n",
      "Iteration 29, loss = 0.66316517\n",
      "Validation score: 0.584175\n",
      "Validation score did not improve more than tol=0.000001 for 5 consecutive epochs. Setting learning rate to 0.000002\n",
      "Iteration 30, loss = 0.66316409\n",
      "Validation score: 0.584175\n",
      "Iteration 31, loss = 0.66316402\n",
      "Validation score: 0.584175\n",
      "Iteration 32, loss = 0.66316402\n",
      "Validation score: 0.584175\n",
      "Iteration 33, loss = 0.66316395\n",
      "Validation score: 0.584175\n",
      "Iteration 34, loss = 0.66316395\n",
      "Validation score: 0.584175\n",
      "Iteration 35, loss = 0.66316393\n",
      "Validation score: 0.584175\n",
      "Validation score did not improve more than tol=0.000001 for 5 consecutive epochs. Setting learning rate to 0.000000\n",
      "Iteration 36, loss = 0.66316368\n",
      "Validation score: 0.584175\n",
      "Iteration 37, loss = 0.66316367\n",
      "Validation score: 0.584175\n",
      "Iteration 38, loss = 0.66316367\n",
      "Validation score: 0.584175\n",
      "Iteration 39, loss = 0.66316366\n",
      "Validation score: 0.584175\n",
      "Iteration 40, loss = 0.66316365\n",
      "Validation score: 0.584175\n",
      "Iteration 41, loss = 0.66316365\n",
      "Validation score: 0.584175\n",
      "Validation score did not improve more than tol=0.000001 for 5 consecutive epochs. Learning rate too small. Stopping.\n"
     ]
    },
    {
     "data": {
      "text/plain": [
       "MLPClassifier(early_stopping=True, hidden_layer_sizes=(400, 200, 100, 20),\n",
       "              learning_rate='adaptive', max_iter=100, n_iter_no_change=5,\n",
       "              solver='sgd', tol=1e-06, verbose=True)"
      ]
     },
     "execution_count": 52,
     "metadata": {},
     "output_type": "execute_result"
    }
   ],
   "source": [
    "mlp_clf_2 = MLPClassifier(hidden_layer_sizes=(400,200,100,20), verbose= True , tol=0.000001,\n",
    "                        max_iter = 100, activation = 'relu', shuffle=True, n_iter_no_change = 5,\n",
    "                        solver = 'sgd', early_stopping=True, learning_rate= 'adaptive' \n",
    "                        )\n",
    "\n",
    "mlp_clf_2.fit(trainX_2_scaled, Y_2_train)"
   ]
  },
  {
   "cell_type": "markdown",
   "id": "4a760fe2",
   "metadata": {},
   "source": [
    "#### ACURÁCIA:"
   ]
  },
  {
   "cell_type": "code",
   "execution_count": 53,
   "id": "9c7d5815",
   "metadata": {},
   "outputs": [
    {
     "name": "stdout",
     "output_type": "stream",
     "text": [
      "Accuracy: 0.59\n"
     ]
    }
   ],
   "source": [
    "y_2_pred = mlp_clf_2.predict(testX_2_scaled)\n",
    "\n",
    "print('Accuracy: {:.2f}'.format(accuracy_score(Y_2_test, y_2_pred)))"
   ]
  },
  {
   "cell_type": "markdown",
   "id": "52f22af9",
   "metadata": {},
   "source": [
    "#### MATRIZ DE CONFUSÃO:"
   ]
  },
  {
   "cell_type": "code",
   "execution_count": 54,
   "id": "6fb0c3af",
   "metadata": {},
   "outputs": [],
   "source": [
    "cm_2 = confusion_matrix(Y_2_test, y_2_pred, labels=mlp_clf_2.classes_)"
   ]
  },
  {
   "cell_type": "code",
   "execution_count": 55,
   "id": "e0472971",
   "metadata": {},
   "outputs": [],
   "source": [
    "disp_2 = ConfusionMatrixDisplay(confusion_matrix=cm_2, display_labels=mlp_clf_2.classes_)"
   ]
  },
  {
   "cell_type": "code",
   "execution_count": 56,
   "id": "f9deac59",
   "metadata": {},
   "outputs": [
    {
     "data": {
      "text/plain": [
       "<sklearn.metrics._plot.confusion_matrix.ConfusionMatrixDisplay at 0x18480a30160>"
      ]
     },
     "execution_count": 56,
     "metadata": {},
     "output_type": "execute_result"
    },
    {
     "data": {
      "image/png": "[encoded data removed]",
      "text/plain": [
       "<Figure size 640x480 with 2 Axes>"
      ]
     },
     "metadata": {},
     "output_type": "display_data"
    }
   ],
   "source": [
    "disp_2.plot()"
   ]
  },
  {
   "cell_type": "code",
   "execution_count": 59,
   "id": "d935db68",
   "metadata": {},
   "outputs": [
    {
     "name": "stdout",
     "output_type": "stream",
     "text": [
      "              precision    recall  f1-score   support\n",
      "\n",
      "         0.0       0.57      0.77      0.65    800598\n",
      "         1.0       0.64      0.41      0.50    799402\n",
      "\n",
      "    accuracy                           0.59   1600000\n",
      "   macro avg       0.60      0.59      0.57   1600000\n",
      "weighted avg       0.60      0.59      0.57   1600000\n",
      "\n"
     ]
    },
    {
     "data": {
      "image/png": "[encoded data removed]",
      "text/plain": [
       "<Figure size 640x480 with 1 Axes>"
      ]
     },
     "metadata": {},
     "output_type": "display_data"
    }
   ],
   "source": [
    "print(classification_report(Y_2_test, y_2_pred))\n",
    "\n",
    "plt.plot(mlp_clf_2.loss_curve_ , label = 'Treinamento' , color = 'b')\n",
    "plt.plot(mlp_clf_2.validation_scores_ , label = 'Validação' , color = 'g')\n",
    "plt.title(\"Loss Curve\", fontsize=14)\n",
    "plt.xlabel('Iterations')\n",
    "plt.ylabel('Cost')\n",
    "plt.legend(loc='best')\n",
    "plt.show()"
   ]
  },
  {
   "cell_type": "markdown",
   "id": "c2032c4d",
   "metadata": {},
   "source": [
    "### LTE X WIFI"
   ]
  },
  {
   "cell_type": "markdown",
   "id": "323f43f5",
   "metadata": {},
   "source": [
    "#### CARREGAMENTO DOS DADOS:"
   ]
  },
  {
   "cell_type": "code",
   "execution_count": 61,
   "id": "34524f4d",
   "metadata": {},
   "outputs": [
    {
     "name": "stdout",
     "output_type": "stream",
     "text": [
      "[[ 3.9674208e-04  3.0518623e-04]\n",
      " [-9.1555863e-05  1.8311173e-04]\n",
      " [-6.1037244e-05 -1.8311173e-04]\n",
      " ...\n",
      " [-2.4414898e-04  1.2207449e-04]\n",
      " [-1.8311173e-04 -6.7140971e-04]\n",
      " [-1.2207449e-04 -1.8311173e-04]]\n",
      "[1. 0. 0. ... 1. 1. 1.]\n"
     ]
    }
   ],
   "source": [
    "X_3,Y_3 = processos(dados_lte1m, dados_wifi ,2)\n",
    "\n",
    "print(X_3)\n",
    "print(Y_3)"
   ]
  },
  {
   "cell_type": "markdown",
   "id": "3c90aec7",
   "metadata": {},
   "source": [
    "#### CONJUNTOS DE TREINAMENTO E TESTE:"
   ]
  },
  {
   "cell_type": "code",
   "execution_count": 64,
   "id": "606e2d50",
   "metadata": {},
   "outputs": [],
   "source": [
    "X_3_train , X_3_test , Y_3_train , Y_3_test = train_test_split(X_3, Y_3, test_size=0.8)"
   ]
  },
  {
   "cell_type": "markdown",
   "id": "54ba1a54",
   "metadata": {},
   "source": [
    "#### NORMALIZAÇÃO DOS DADOS:"
   ]
  },
  {
   "cell_type": "code",
   "execution_count": 65,
   "id": "b7d813bd",
   "metadata": {},
   "outputs": [],
   "source": [
    "sc_3=StandardScaler()\n",
    "\n",
    "scaler_3= sc_2.fit(X_3_train)\n",
    "trainX_3_scaled = scaler.transform(X_3_train)\n",
    "testX_3_scaled = scaler.transform(X_3_test)"
   ]
  },
  {
   "cell_type": "markdown",
   "id": "4a4bcf23",
   "metadata": {},
   "source": [
    "#### TREINAMENTO DO MODELO:"
   ]
  },
  {
   "cell_type": "code",
   "execution_count": 66,
   "id": "98141c5a",
   "metadata": {},
   "outputs": [
    {
     "name": "stdout",
     "output_type": "stream",
     "text": [
      "Iteration 1, loss = 0.68715478\n",
      "Validation score: 0.554550\n",
      "Iteration 2, loss = 0.68125599\n",
      "Validation score: 0.557300\n",
      "Iteration 3, loss = 0.68025037\n",
      "Validation score: 0.557875\n",
      "Iteration 4, loss = 0.67989311\n",
      "Validation score: 0.557650\n",
      "Iteration 5, loss = 0.67971361\n",
      "Validation score: 0.558100\n",
      "Iteration 6, loss = 0.67960235\n",
      "Validation score: 0.558500\n",
      "Iteration 7, loss = 0.67953837\n",
      "Validation score: 0.556950\n",
      "Iteration 8, loss = 0.67947629\n",
      "Validation score: 0.558875\n",
      "Iteration 9, loss = 0.67943469\n",
      "Validation score: 0.558175\n",
      "Iteration 10, loss = 0.67941192\n",
      "Validation score: 0.557225\n",
      "Iteration 11, loss = 0.67938762\n",
      "Validation score: 0.557375\n",
      "Iteration 12, loss = 0.67939184\n",
      "Validation score: 0.558800\n",
      "Iteration 13, loss = 0.67936081\n",
      "Validation score: 0.558025\n",
      "Iteration 14, loss = 0.67936580\n",
      "Validation score: 0.558400\n",
      "Validation score did not improve more than tol=0.000001 for 5 consecutive epochs. Setting learning rate to 0.000200\n",
      "Iteration 15, loss = 0.67928814\n",
      "Validation score: 0.557750\n",
      "Iteration 16, loss = 0.67927961\n",
      "Validation score: 0.557400\n",
      "Iteration 17, loss = 0.67928267\n",
      "Validation score: 0.557950\n",
      "Iteration 18, loss = 0.67927484\n",
      "Validation score: 0.557575\n",
      "Iteration 19, loss = 0.67927458\n",
      "Validation score: 0.557775\n",
      "Iteration 20, loss = 0.67927010\n",
      "Validation score: 0.557700\n",
      "Validation score did not improve more than tol=0.000001 for 5 consecutive epochs. Setting learning rate to 0.000040\n",
      "Iteration 21, loss = 0.67925780\n",
      "Validation score: 0.557700\n",
      "Iteration 22, loss = 0.67925594\n",
      "Validation score: 0.557550\n",
      "Iteration 23, loss = 0.67925500\n",
      "Validation score: 0.557550\n",
      "Iteration 24, loss = 0.67925273\n",
      "Validation score: 0.557750\n",
      "Iteration 25, loss = 0.67925380\n",
      "Validation score: 0.557800\n",
      "Iteration 26, loss = 0.67925337\n",
      "Validation score: 0.557600\n",
      "Validation score did not improve more than tol=0.000001 for 5 consecutive epochs. Setting learning rate to 0.000008\n",
      "Iteration 27, loss = 0.67924933\n",
      "Validation score: 0.557800\n",
      "Iteration 28, loss = 0.67924907\n",
      "Validation score: 0.557750\n",
      "Iteration 29, loss = 0.67924889\n",
      "Validation score: 0.557750\n",
      "Iteration 30, loss = 0.67924870\n",
      "Validation score: 0.557750\n",
      "Iteration 31, loss = 0.67924864\n",
      "Validation score: 0.557750\n",
      "Iteration 32, loss = 0.67924843\n",
      "Validation score: 0.557750\n",
      "Validation score did not improve more than tol=0.000001 for 5 consecutive epochs. Setting learning rate to 0.000002\n",
      "Iteration 33, loss = 0.67924761\n",
      "Validation score: 0.557750\n",
      "Iteration 34, loss = 0.67924760\n",
      "Validation score: 0.557750\n",
      "Iteration 35, loss = 0.67924758\n",
      "Validation score: 0.557750\n",
      "Iteration 36, loss = 0.67924756\n",
      "Validation score: 0.557750\n",
      "Iteration 37, loss = 0.67924753\n",
      "Validation score: 0.557750\n",
      "Iteration 38, loss = 0.67924751\n",
      "Validation score: 0.557750\n",
      "Validation score did not improve more than tol=0.000001 for 5 consecutive epochs. Setting learning rate to 0.000000\n",
      "Iteration 39, loss = 0.67924732\n",
      "Validation score: 0.557750\n",
      "Iteration 40, loss = 0.67924732\n",
      "Validation score: 0.557750\n",
      "Iteration 41, loss = 0.67924732\n",
      "Validation score: 0.557750\n",
      "Iteration 42, loss = 0.67924731\n",
      "Validation score: 0.557750\n",
      "Iteration 43, loss = 0.67924731\n",
      "Validation score: 0.557750\n",
      "Iteration 44, loss = 0.67924731\n",
      "Validation score: 0.557750\n",
      "Validation score did not improve more than tol=0.000001 for 5 consecutive epochs. Learning rate too small. Stopping.\n"
     ]
    },
    {
     "data": {
      "text/plain": [
       "MLPClassifier(early_stopping=True, hidden_layer_sizes=(400, 200, 100, 20),\n",
       "              learning_rate='adaptive', max_iter=100, n_iter_no_change=5,\n",
       "              solver='sgd', tol=1e-06, verbose=True)"
      ]
     },
     "execution_count": 66,
     "metadata": {},
     "output_type": "execute_result"
    }
   ],
   "source": [
    "mlp_clf_3 = MLPClassifier(hidden_layer_sizes=(400,200,100,20), verbose= True , tol=0.000001,\n",
    "                        max_iter = 100, activation = 'relu', shuffle=True, n_iter_no_change = 5,\n",
    "                        solver = 'sgd', early_stopping=True, learning_rate= 'adaptive' \n",
    "                        )\n",
    "\n",
    "mlp_clf_3.fit(trainX_3_scaled, Y_3_train)"
   ]
  },
  {
   "cell_type": "markdown",
   "id": "5cb4c672",
   "metadata": {},
   "source": [
    "#### ACURÁCIA:"
   ]
  },
  {
   "cell_type": "code",
   "execution_count": 67,
   "id": "2b8ae51a",
   "metadata": {},
   "outputs": [
    {
     "name": "stdout",
     "output_type": "stream",
     "text": [
      "Accuracy: 0.56\n"
     ]
    }
   ],
   "source": [
    "y_3_pred = mlp_clf_3.predict(testX_3_scaled)\n",
    "\n",
    "print('Accuracy: {:.2f}'.format(accuracy_score(Y_3_test, y_3_pred)))"
   ]
  },
  {
   "cell_type": "markdown",
   "id": "039c49da",
   "metadata": {},
   "source": [
    "#### MATRIZ DE CONFUSÃO:"
   ]
  },
  {
   "cell_type": "code",
   "execution_count": 68,
   "id": "4a2ff22a",
   "metadata": {},
   "outputs": [],
   "source": [
    "cm_3 = confusion_matrix(Y_3_test, y_3_pred, labels=mlp_clf_3.classes_)"
   ]
  },
  {
   "cell_type": "code",
   "execution_count": 69,
   "id": "9563984a",
   "metadata": {},
   "outputs": [],
   "source": [
    "disp_3 = ConfusionMatrixDisplay(confusion_matrix=cm_3, display_labels=mlp_clf_3.classes_)"
   ]
  },
  {
   "cell_type": "code",
   "execution_count": 70,
   "id": "75515a71",
   "metadata": {},
   "outputs": [
    {
     "data": {
      "text/plain": [
       "<sklearn.metrics._plot.confusion_matrix.ConfusionMatrixDisplay at 0x18481039160>"
      ]
     },
     "execution_count": 70,
     "metadata": {},
     "output_type": "execute_result"
    },
    {
     "data": {
      "image/png": "[encoded data removed]",
      "text/plain": [
       "<Figure size 640x480 with 2 Axes>"
      ]
     },
     "metadata": {},
     "output_type": "display_data"
    }
   ],
   "source": [
    "disp_3.plot()"
   ]
  },
  {
   "cell_type": "code",
   "execution_count": 71,
   "id": "ec5f9ff6",
   "metadata": {},
   "outputs": [
    {
     "name": "stdout",
     "output_type": "stream",
     "text": [
      "              precision    recall  f1-score   support\n",
      "\n",
      "         0.0       0.54      0.72      0.62    800354\n",
      "         1.0       0.59      0.39      0.47    799646\n",
      "\n",
      "    accuracy                           0.56   1600000\n",
      "   macro avg       0.56      0.56      0.55   1600000\n",
      "weighted avg       0.56      0.56      0.55   1600000\n",
      "\n"
     ]
    },
    {
     "data": {
      "image/png": "[encoded data removed]",
      "text/plain": [
       "<Figure size 640x480 with 1 Axes>"
      ]
     },
     "metadata": {},
     "output_type": "display_data"
    }
   ],
   "source": [
    "print(classification_report(Y_3_test, y_3_pred))\n",
    "\n",
    "plt.plot(mlp_clf_3.loss_curve_ , label = 'Treinamento' , color = 'b')\n",
    "plt.plot(mlp_clf_3.validation_scores_ , label = 'Validação' , color = 'g')\n",
    "plt.title(\"Loss Curve\", fontsize=14)\n",
    "plt.xlabel('Iterations')\n",
    "plt.ylabel('Cost')\n",
    "plt.legend(loc='best')\n",
    "plt.show()"
   ]
  },
  {
   "cell_type": "code",
   "execution_count": null,
   "id": "c3bf3a27",
   "metadata": {},
   "outputs": [],
   "source": []
  },
  {
   "cell_type": "code",
   "execution_count": null,
   "id": "bb4c20b2",
   "metadata": {},
   "outputs": [],
   "source": []
  }
 ],
 "metadata": {
  "kernelspec": {
   "display_name": "Python 3 (ipykernel)",
   "language": "python",
   "name": "python3"
  },
  "language_info": {
   "codemirror_mode": {
    "name": "ipython",
    "version": 3
   },
   "file_extension": ".py",
   "mimetype": "text/x-python",
   "name": "python",
   "nbconvert_exporter": "python",
   "pygments_lexer": "ipython3",
   "version": "3.8.0"
  }
 },
 "nbformat": 4,
 "nbformat_minor": 5
}
