{
 "cells": [
  {
   "cell_type": "code",
   "execution_count": 44,
   "id": "c598b795",
   "metadata": {},
   "outputs": [],
   "source": [
    "import matplotlib.pyplot as plt\n",
    "import numpy as np\n",
    "import pandas as pd\n",
    "import tensorflow\n",
    "from tensorflow import keras\n",
    "from keras.models import model_from_json\n",
    "from sklearn.model_selection import train_test_split\n",
    "from sklearn.preprocessing import StandardScaler\n",
    "\n",
    "from keras.optimizers import adam\n",
    "from keras.optimizers import adamax\n",
    "\n",
    "from sklearn.neural_network import MLPClassifier\n",
    "from sklearn.metrics import confusion_matrix\n",
    "from sklearn.metrics import accuracy_score\n",
    "from sklearn.metrics import ConfusionMatrixDisplay\n",
    "from sklearn.metrics import classification_report\n",
    "from sklearn.model_selection import GridSearchCV"
   ]
  },
  {
   "cell_type": "code",
   "execution_count": 45,
   "id": "64591f9a",
   "metadata": {},
   "outputs": [],
   "source": [
    "#CARREGAMENTO DOS DATASETS\n",
    "\n",
    "carregando_clear = np.load('D:\\\\Dados capturados\\\\DATASETS\\\\CLEAR.npy', mmap_mode='r')\n",
    "carregando_wifi = np.load('D:\\\\Dados capturados\\\\DATASETS\\\\WIFI.npy', mmap_mode='r')\n",
    "carregando_lte1m = np.load('D:\\\\Dados capturados\\\\DATASETS\\\\LTE_1M.npy', mmap_mode='r')"
   ]
  },
  {
   "cell_type": "code",
   "execution_count": 71,
   "id": "bfabb6e9",
   "metadata": {},
   "outputs": [],
   "source": [
    "#REDUCAO DO DATASET\n",
    "\n",
    "dados_clear = carregando_clear[:1000000]\n",
    "dados_wifi = carregando_wifi[:1000000]\n",
    "dados_lte = carregando_lte1m[:1000000]"
   ]
  },
  {
   "cell_type": "code",
   "execution_count": 72,
   "id": "a266d558",
   "metadata": {},
   "outputs": [],
   "source": [
    "#SEPARACAO DAS PARTES REAL E IMAGINARIA\n",
    "def sep_col_comp(dados):\n",
    "    parte_real = dados.real\n",
    "    parte_imag = dados.imag\n",
    "    return parte_real , parte_imag\n",
    "\n",
    "def montagem_datasets(dados_1 , dados_2, dados_3):\n",
    "    real1 , imag1 = sep_col_comp(dados_1)\n",
    "    real2 , imag2 = sep_col_comp(dados_2)\n",
    "    real3 , imag3 = sep_col_comp(dados_3)\n",
    "    atrib1 = np.zeros(len(dados_1))\n",
    "    atrib2 = np.ones(len(dados_2))\n",
    "    atrib3 = np.ones(len(dados_3))*2\n",
    "    dados1 = np.column_stack((real1,imag1,atrib1))\n",
    "    dados2 = np.column_stack((real2,imag2,atrib2))\n",
    "    dados3 = np.column_stack((real3,imag3,atrib3))\n",
    "    conjunto = np.vstack([dados1 , dados2 , dados3])\n",
    "    indices = np.random.permutation(len(conjunto))\n",
    "    dados = conjunto[indices]\n",
    "    return dados\n",
    "\n",
    "def remodel(dados , feature):\n",
    "    df = pd.DataFrame(dados , columns = ['real' , 'imag' , 'clfq'])\n",
    "    df_junt = df[['real' , 'imag']].to_numpy()\n",
    "    dados_dim = df_junt\n",
    "    dados_dim = dados_dim.astype(np.float32)\n",
    "    alvo = df['clfq'].values\n",
    "    alvo_dim = alvo\n",
    "    alvo_dim = alvo_dim.astype(np.float32)\n",
    "    \n",
    "    return dados_dim , alvo_dim\n",
    "\n",
    "def processos(dados_1 , dados_2, dados_3, feature):\n",
    "    dados = montagem_datasets(dados_1 , dados_2, dados_3)\n",
    "    X , Y = remodel(dados , feature)\n",
    "    return X , Y\n"
   ]
  },
  {
   "cell_type": "code",
   "execution_count": 73,
   "id": "0e3d2766",
   "metadata": {},
   "outputs": [
    {
     "name": "stdout",
     "output_type": "stream",
     "text": [
      "[[-6.1037244e-05 -9.1555863e-05]\n",
      " [ 1.5259311e-04  1.2207449e-04]\n",
      " [-3.3570486e-04  2.1363035e-04]\n",
      " ...\n",
      " [ 3.0518623e-04  0.0000000e+00]\n",
      " [ 6.1037244e-05 -9.1555863e-05]\n",
      " [ 2.4414898e-04  9.1555863e-05]]\n",
      "[0. 2. 0. ... 2. 1. 1.]\n"
     ]
    }
   ],
   "source": [
    "#CLEAR X WIFI X LTE\n",
    "\n",
    "X,Y = processos(dados_clear, dados_lte , dados_wifi , 3  )\n",
    "print(X)\n",
    "print(Y)"
   ]
  },
  {
   "cell_type": "code",
   "execution_count": 74,
   "id": "fe74b3b3",
   "metadata": {},
   "outputs": [],
   "source": [
    "#CONJUNTO DE TREINAMENTO E TESTE\n",
    "\n",
    "X_train , X_test , Y_train , Y_test = train_test_split(X , Y , test_size=0.85)\n"
   ]
  },
  {
   "cell_type": "code",
   "execution_count": 75,
   "id": "7040312e",
   "metadata": {},
   "outputs": [],
   "source": [
    "#NORMALIZACAO DOS DADOS\n",
    "\n",
    "sc=StandardScaler()\n",
    "\n",
    "scaler = sc.fit(X_train)\n",
    "trainX_scaled = scaler.transform(X_train)\n",
    "testX_scaled = scaler.transform(X_test)\n"
   ]
  },
  {
   "cell_type": "code",
   "execution_count": 76,
   "id": "92aa96f3",
   "metadata": {},
   "outputs": [
    {
     "data": {
      "text/plain": [
       "MLPClassifier(hidden_layer_sizes=(300, 120, 30), max_iter=500)"
      ]
     },
     "execution_count": 76,
     "metadata": {},
     "output_type": "execute_result"
    }
   ],
   "source": [
    "#TREINAMENTO DA REDE NEURAL\n",
    "\n",
    "mlp_clf = MLPClassifier(hidden_layer_sizes=(300,120,30),\n",
    "                        max_iter = 500,activation = 'relu',\n",
    "                        solver = 'adam')\n",
    "\n",
    "mlp_clf.fit(trainX_scaled, Y_train)"
   ]
  },
  {
   "cell_type": "code",
   "execution_count": 77,
   "id": "e4c9a790",
   "metadata": {},
   "outputs": [
    {
     "name": "stdout",
     "output_type": "stream",
     "text": [
      "Accuracy: 0.39\n"
     ]
    }
   ],
   "source": [
    "#ACURÁCIA\n",
    "\n",
    "y_pred = mlp_clf.predict(testX_scaled)\n",
    "\n",
    "print('Accuracy: {:.2f}'.format(accuracy_score(Y_test, y_pred)))\n"
   ]
  },
  {
   "cell_type": "code",
   "execution_count": 78,
   "id": "81b29bd2",
   "metadata": {},
   "outputs": [
    {
     "data": {
      "text/plain": [
       "<sklearn.metrics._plot.confusion_matrix.ConfusionMatrixDisplay at 0x255834f7cd0>"
      ]
     },
     "execution_count": 78,
     "metadata": {},
     "output_type": "execute_result"
    },
    {
     "data": {
      "image/png": "[encoded data removed]",
      "text/plain": [
       "<Figure size 640x480 with 2 Axes>"
      ]
     },
     "metadata": {},
     "output_type": "display_data"
    }
   ],
   "source": [
    "#MATRIZ DE CONFUSÃO\n",
    "\n",
    "cm = confusion_matrix(Y_test, y_pred, labels=mlp_clf.classes_)\n",
    "disp = ConfusionMatrixDisplay(confusion_matrix=cm, display_labels=mlp_clf.classes_)\n",
    "disp.plot()"
   ]
  },
  {
   "cell_type": "code",
   "execution_count": null,
   "id": "69596d2c",
   "metadata": {},
   "outputs": [],
   "source": []
  },
  {
   "cell_type": "code",
   "execution_count": null,
   "id": "c2d65eab",
   "metadata": {},
   "outputs": [],
   "source": []
  }
 ],
 "metadata": {
  "kernelspec": {
   "display_name": "Python 3 (ipykernel)",
   "language": "python",
   "name": "python3"
  },
  "language_info": {
   "codemirror_mode": {
    "name": "ipython",
    "version": 3
   },
   "file_extension": ".py",
   "mimetype": "text/x-python",
   "name": "python",
   "nbconvert_exporter": "python",
   "pygments_lexer": "ipython3",
   "version": "3.8.0"
  }
 },
 "nbformat": 4,
 "nbformat_minor": 5
}
